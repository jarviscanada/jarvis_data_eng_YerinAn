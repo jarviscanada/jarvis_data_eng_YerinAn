﻿{
  "metadata": {
    "name": "JarvisHiveProject",
    "kernelspec": {
      "language": "scala",
      "name": "spark2-scala"
    },
    "language_info": {
      "codemirror_mode": "text/x-scala",
      "file_extension": ".scala",
      "mimetype": "text/x-scala",
      "name": "scala",
      "pygments_lexer": "scala"
    }
  },
  "nbformat": 4,
  "nbformat_minor": 2,
  "cells": [
    {
      "cell_type": "code",
      "execution_count": 0,
      "metadata": {
        "autoscroll": "auto"
      },
      "outputs": [],
      "source": "DROP TABLE IF EXISTS wdi_gs"
    },
    {
      "cell_type": "code",
      "execution_count": 1,
      "metadata": {
        "autoscroll": "auto"
      },
      "outputs": [],
      "source": "CREATE EXTERNAL TABLE wdi_gs\r\n(year INTEGER, countryName STRING, countryCode STRING, indicatorName STRING, indicatorCode STRING, indicatorValue FLOAT)\r\nROW FORMAT DELIMITED FIELDS TERMINATED BY \u0027,\u0027 LINES TERMINATED BY \u0027\\n\u0027\r\nLOCATION \u0027gs://jarvis_data_eng_yerin/datasets/wdi_2016\u0027\r\nTBLPROPERTIES (\"skip.header.line.count\"\u003d\"1\")"
    },
    {
      "cell_type": "markdown",
      "metadata": {},
      "source": "## Count Rows in Table\n#### Find out your HDFS home directory"
    },
    {
      "cell_type": "code",
      "execution_count": 3,
      "metadata": {
        "autoscroll": "auto"
      },
      "outputs": [],
      "source": "%sh\nhdfs dfs -ls /user"
    },
    {
      "cell_type": "markdown",
      "metadata": {},
      "source": "#### Create an external table\n- wdi_csv_text"
    },
    {
      "cell_type": "code",
      "execution_count": 5,
      "metadata": {
        "autoscroll": "auto"
      },
      "outputs": [],
      "source": "DROP TABLE IF EXISTS wdi_csv_text"
    },
    {
      "cell_type": "code",
      "execution_count": 6,
      "metadata": {
        "autoscroll": "auto"
      },
      "outputs": [],
      "source": "CREATE EXTERNAL TABLE wdi_csv_text\n(year INTEGER, countryName STRING, countryCode STRING, indicatorName STRING, indicatorCode STRING, indicatorValue FLOAT)\nROW FORMAT DELIMITED FIELDS TERMINATED BY \u0027,\u0027 LINES TERMINATED BY \u0027\\n\u0027\nLOCATION \u0027hdfs:///user/anyerin01/hive/wdi/wdi_csv_text\u0027;"
    },
    {
      "cell_type": "markdown",
      "metadata": {},
      "source": "#### Write a INSERT query that loads data from wdi_gs table to wdi_csv_text table"
    },
    {
      "cell_type": "code",
      "execution_count": 8,
      "metadata": {
        "autoscroll": "auto"
      },
      "outputs": [],
      "source": "INSERT OVERWRITE TABLE wdi_csv_text\nSELECT * FROM wdi_gs"
    },
    {
      "cell_type": "code",
      "execution_count": 9,
      "metadata": {
        "autoscroll": "auto"
      },
      "outputs": [],
      "source": "%sh\nhdfs dfs -ls -h /user/anyerin01/hive/wdi/wdi_csv_text"
    },
    {
      "cell_type": "code",
      "execution_count": 10,
      "metadata": {
        "autoscroll": "auto"
      },
      "outputs": [],
      "source": "%sh\nhdfs dfs -du -s -h /user/anyerin01/hive/wdi/wdi_csv_text"
    },
    {
      "cell_type": "markdown",
      "metadata": {},
      "source": "## Count countryName\n- the file system cache holds data that was recently read from disk to reduce the need for re-reading data from disk in subsequent queries."
    },
    {
      "cell_type": "code",
      "execution_count": 12,
      "metadata": {
        "autoscroll": "auto"
      },
      "outputs": [],
      "source": "SELECT count(countryName) FROM wdi_csv_text"
    },
    {
      "cell_type": "code",
      "execution_count": 13,
      "metadata": {
        "autoscroll": "auto"
      },
      "outputs": [],
      "source": "SELECT count(countryName) FROM wdi_csv_text"
    },
    {
      "cell_type": "markdown",
      "metadata": {},
      "source": "## HIVE vs BASH\n#### counting number of rows in wdi_csv_text using Bash and Hive\n- Bash is more faster than Hive\n- because Hive needs to load files from different nodes into the hive table and then perform the operation as Tez tasks through YARN\n- However, Bash can access files locally and perform the operation directly on the files"
    },
    {
      "cell_type": "code",
      "execution_count": 15,
      "metadata": {
        "autoscroll": "auto"
      },
      "outputs": [],
      "source": "%sh\ncd ~\nhdfs  dfs -get  hdfs:///user/anyerin01/hive/wdi/wdi_csv_text .\ncd wdi_csv_text"
    },
    {
      "cell_type": "code",
      "execution_count": 16,
      "metadata": {
        "autoscroll": "auto"
      },
      "outputs": [],
      "source": "%sh\ndu -ch ."
    },
    {
      "cell_type": "code",
      "execution_count": 17,
      "metadata": {
        "autoscroll": "auto"
      },
      "outputs": [],
      "source": "%sh\necho 3 | sudo tee /proc/sys/vm/drop_caches"
    },
    {
      "cell_type": "code",
      "execution_count": 18,
      "metadata": {
        "autoscroll": "auto"
      },
      "outputs": [],
      "source": "%sh\ndate +%s \u0026\u0026 cat * | wc \u0026\u0026 date +%s"
    },
    {
      "cell_type": "markdown",
      "metadata": {},
      "source": "## Parsing Issue\n- Using commas to delimit the different fields returns unexpected results.\n- To confirm that there are unwanted commas in the data fields, we can re-import the data without trying to delimit fields."
    },
    {
      "cell_type": "code",
      "execution_count": 20,
      "metadata": {
        "autoscroll": "auto"
      },
      "outputs": [],
      "source": "SELECT distinct(indicatorcode)\nFROM wdi_csv_text\nORDER BY indicatorcode\nLIMIT 20"
    },
    {
      "cell_type": "code",
      "execution_count": 21,
      "metadata": {
        "autoscroll": "auto"
      },
      "outputs": [],
      "source": "DROP TABLE IF EXISTS wdi_gs_debug"
    },
    {
      "cell_type": "code",
      "execution_count": 22,
      "metadata": {
        "autoscroll": "auto"
      },
      "outputs": [],
      "source": "CREATE EXTERNAL TABLE wdi_gs_debug\n(line STRING)\nLOCATION \u0027gs://jarvis_data_eng_yerin/datasets/wdi_2016\u0027\nTBLPROPERTIES (\"skip.header.line.count\"\u003d\"1\")"
    },
    {
      "cell_type": "code",
      "execution_count": 23,
      "metadata": {
        "autoscroll": "auto"
      },
      "outputs": [],
      "source": "SELECT line FROM wdi_gs_debug\nWHERE line like \"%\\(\\% of urban population\\)\\\"%\"\nLIMIT 100"
    },
    {
      "cell_type": "markdown",
      "metadata": {},
      "source": "## Create a Table with OpenCSV SerDe\n- The OpenCSV SerDe solved the parsing problem, but it has a limitation: it treats all columns to be of type String, as can be seen in the description of wdi_opencsv_text"
    },
    {
      "cell_type": "code",
      "execution_count": 25,
      "metadata": {
        "autoscroll": "auto"
      },
      "outputs": [],
      "source": "DROP TABLE IF EXISTS wdi_opencsv_gs"
    },
    {
      "cell_type": "code",
      "execution_count": 26,
      "metadata": {
        "autoscroll": "auto"
      },
      "outputs": [],
      "source": "CREATE EXTERNAL TABLE wdi_opencsv_gs\r\n(year STRING, countryName STRING, countryCode STRING, indicatorName STRING, indicatorCode STRING, indicatorValue STRING)\r\nROW FORMAT SERDE \u0027org.apache.hadoop.hive.serde2.OpenCSVSerde\u0027\r\nLOCATION \u0027gs://jarvis_data_eng_yerin/datasets/wdi_2016\u0027\r\nTBLPROPERTIES (\"skip.header.line.count\"\u003d\"1\")"
    },
    {
      "cell_type": "code",
      "execution_count": 27,
      "metadata": {
        "autoscroll": "auto"
      },
      "outputs": [],
      "source": "DROP TABLE IF EXISTS wdi_opencsv_text"
    },
    {
      "cell_type": "code",
      "execution_count": 28,
      "metadata": {
        "autoscroll": "auto"
      },
      "outputs": [],
      "source": "CREATE EXTERNAL TABLE wdi_opencsv_text\r\n(year STRING, countryName STRING, countryCode STRING, indicatorName STRING, indicatorCode STRING, indicatorValue STRING)\r\nROW FORMAT SERDE \u0027org.apache.hadoop.hive.serde2.OpenCSVSerde\u0027\r\nLOCATION \u0027hdfs:///user/anyerin01/hive/wdi/wdi_opencsv_text\u0027"
    },
    {
      "cell_type": "code",
      "execution_count": 29,
      "metadata": {
        "autoscroll": "auto"
      },
      "outputs": [],
      "source": "INSERT OVERWRITE TABLE wdi_opencsv_text\r\nSELECT * FROM wdi_opencsv_gs"
    },
    {
      "cell_type": "code",
      "execution_count": 30,
      "metadata": {
        "autoscroll": "auto"
      },
      "outputs": [],
      "source": "SELECT distinct(indicatorcode)\r\nFROM wdi_opencsv_text\r\nORDER BY indicatorcode\r\nLIMIT 20"
    },
    {
      "cell_type": "code",
      "execution_count": 31,
      "metadata": {
        "autoscroll": "auto"
      },
      "outputs": [],
      "source": "SELECT distinct(indicatorcode)\r\nFROM wdi_opencsv_gs\r\nORDER BY indicatorcode\r\nLIMIT 20"
    },
    {
      "cell_type": "code",
      "execution_count": 32,
      "metadata": {
        "autoscroll": "auto"
      },
      "outputs": [],
      "source": "SELECT COUNT(countryName) FROM wdi_csv_text"
    },
    {
      "cell_type": "code",
      "execution_count": 33,
      "metadata": {
        "autoscroll": "auto"
      },
      "outputs": [],
      "source": "SELECT COUNT(countryName) FROM wdi_opencsv_text"
    },
    {
      "cell_type": "markdown",
      "metadata": {},
      "source": "OpenCSVSerde limitation"
    },
    {
      "cell_type": "code",
      "execution_count": 35,
      "metadata": {
        "autoscroll": "auto"
      },
      "outputs": [],
      "source": "DESCRIBE FORMATTED wdi_opencsv_text"
    },
    {
      "cell_type": "code",
      "execution_count": 36,
      "metadata": {
        "autoscroll": "auto"
      },
      "outputs": [],
      "source": "DESCRIBE FORMATTED wdi_csv_text"
    },
    {
      "cell_type": "code",
      "execution_count": 37,
      "metadata": {
        "autoscroll": "auto"
      },
      "outputs": [],
      "source": "DROP VIEW IF EXISTS wdi_opencsv_text_view"
    },
    {
      "cell_type": "code",
      "execution_count": 38,
      "metadata": {
        "autoscroll": "auto"
      },
      "outputs": [],
      "source": "CREATE VIEW IF NOT EXISTS wdi_opencsv_text_view\r\nAS\r\nSELECT CAST(year AS INTEGER), countryName, countryCode, indicatorName, indicatorCode, CAST(indicatorValue AS FLOAT) \r\nFROM wdi_opencsv_text"
    },
    {
      "cell_type": "code",
      "execution_count": 39,
      "metadata": {
        "autoscroll": "auto"
      },
      "outputs": [],
      "source": "DESCRIBE FORMATTED wdi_opencsv_text_view"
    },
    {
      "cell_type": "markdown",
      "metadata": {},
      "source": "## 2015 Canada GDP Growth HQL"
    },
    {
      "cell_type": "code",
      "execution_count": 41,
      "metadata": {
        "autoscroll": "auto"
      },
      "outputs": [],
      "source": "SELECT * FROM wdi_opencsv_text_view\nLIMIT 10"
    },
    {
      "cell_type": "code",
      "execution_count": 42,
      "metadata": {
        "autoscroll": "auto"
      },
      "outputs": [],
      "source": "SELECT * FROM wdi_opencsv_text_view\nWHERE countryname \u003d \"Canada\" \nAND indicatorname LIKE \"%GDP growth (annual \\%)%\""
    },
    {
      "cell_type": "code",
      "execution_count": 43,
      "metadata": {
        "autoscroll": "auto"
      },
      "outputs": [],
      "source": "SELECT year, countryName, indicatorName, indicatorValue AS GDP_Growth \nFROM wdi_opencsv_text_view\nWHERE indicatorcode \u003d \"NY.GDP.MKTP.KD.ZG\" \nAND year \u003d 2015 \nAND countrycode \u003d \"CAN\""
    },
    {
      "cell_type": "markdown",
      "metadata": {},
      "source": "## HIVE PARTITIONS\n- Partition groups table will be faster than using where clause because it saves small groups as each segment file."
    },
    {
      "cell_type": "code",
      "execution_count": 45,
      "metadata": {
        "autoscroll": "auto"
      },
      "outputs": [],
      "source": "SET hive.exec.dynamic.partition.mode\u003dnonstrict"
    },
    {
      "cell_type": "code",
      "execution_count": 46,
      "metadata": {
        "autoscroll": "auto"
      },
      "outputs": [],
      "source": "DROP TABLE IF EXISTS wdi_opencsv_text_partitions"
    },
    {
      "cell_type": "code",
      "execution_count": 47,
      "metadata": {
        "autoscroll": "auto"
      },
      "outputs": [],
      "source": "CREATE EXTERNAL TABLE wdi_opencsv_text_partitions\r\n(countryName STRING, countryCode STRING, indicatorName STRING, indicatorCode STRING, indicatorValue FLOAT)\r\nPARTITIONED BY (year INTEGER)\r\nROW FORMAT DELIMITED FIELDS TERMINATED BY \u0027,\u0027 LINES TERMINATED BY \u0027\\n\u0027\r\nLOCATION \u0027hdfs:///user/anyerin01/hive/wdi/wdi_opencsv_text_partitions\u0027"
    },
    {
      "cell_type": "code",
      "execution_count": 48,
      "metadata": {
        "autoscroll": "auto"
      },
      "outputs": [],
      "source": "FROM wdi_opencsv_text\r\nINSERT OVERWRITE TABLE wdi_opencsv_text_partitions PARTITION(year)\r\n       SELECT countryName, countryCode, indicatorName, indicatorCode, indicatorValue, year"
    },
    {
      "cell_type": "code",
      "execution_count": 49,
      "metadata": {
        "autoscroll": "auto"
      },
      "outputs": [],
      "source": "%sh\nhdfs dfs -ls /user/anyerin01/hive/wdi/wdi_opencsv_text_partitions"
    },
    {
      "cell_type": "code",
      "execution_count": 50,
      "metadata": {
        "autoscroll": "auto"
      },
      "outputs": [],
      "source": "SELECT year, countryName, indicatorName, indicatorValue AS GDP_Growth \nFROM wdi_opencsv_text_partitions\nWHERE indicatorcode \u003d \"NY.GDP.MKTP.KD.ZG\" \nAND year \u003d 2015 \nAND countrycode \u003d \"CAN\""
    },
    {
      "cell_type": "markdown",
      "metadata": {},
      "source": "## Columnar File Optimization\n- Parquet stores binary data in a column-oriented way, where the values of each column are organized so that they are all adjacent, enabling better compression. It is especially good for queries that read particular columns from a wide table."
    },
    {
      "cell_type": "code",
      "execution_count": 52,
      "metadata": {
        "autoscroll": "auto"
      },
      "outputs": [],
      "source": "DROP TABLE IF EXISTS wdi_csv_parquet"
    },
    {
      "cell_type": "code",
      "execution_count": 53,
      "metadata": {
        "autoscroll": "auto"
      },
      "outputs": [],
      "source": "CREATE EXTERNAL TABLE wdi_csv_parquet\n(year INTEGER, countryName STRING, countryCode STRING, indicatorName STRING, indicatorCode STRING, indicatorValue FLOAT)\nROW FORMAT DELIMITED FIELDS TERMINATED BY \u0027,\u0027 LINES TERMINATED BY \u0027\\n\u0027\nSTORED AS PARQUET\nLOCATION \u0027hdfs:///user/anyerin01/hive/wdi/wdi_csv_parquet\u0027"
    },
    {
      "cell_type": "markdown",
      "metadata": {},
      "source": "#### Load Data from gs to parquet"
    },
    {
      "cell_type": "code",
      "execution_count": 55,
      "metadata": {
        "autoscroll": "auto"
      },
      "outputs": [],
      "source": "INSERT OVERWRITE TABLE wdi_csv_parquet\r\nSELECT * FROM wdi_opencsv_gs"
    },
    {
      "cell_type": "code",
      "execution_count": 56,
      "metadata": {
        "autoscroll": "auto"
      },
      "outputs": [],
      "source": "%sh\n# comparing file size\ncd ~\nhdfs dfs -get  hdfs:///user/anyerin01/hive/wdi/wdi_csv_parquet .\ncd wdi_csv_parquet\n#calculate current directory size\ndu -ch ."
    },
    {
      "cell_type": "code",
      "execution_count": 57,
      "metadata": {
        "autoscroll": "auto"
      },
      "outputs": [],
      "source": "%sh\n# comparing file size\ncd ~\nhdfs dfs -get  hdfs:///user/anyerin01/hive/wdi/wdi_opencsv_text .\ncd wdi_opencsv_text\n#calculate current directory size\ndu -ch ."
    },
    {
      "cell_type": "code",
      "execution_count": 58,
      "metadata": {
        "autoscroll": "auto"
      },
      "outputs": [],
      "source": "SELECT count(countryName) FROM wdi_csv_parquet"
    },
    {
      "cell_type": "code",
      "execution_count": 59,
      "metadata": {
        "autoscroll": "auto"
      },
      "outputs": [],
      "source": "SELECT count(countryName) FROM wdi_opencsv_text"
    },
    {
      "cell_type": "markdown",
      "metadata": {},
      "source": "#### Runtime\n- parquet has much better performance than opencsv_text (parquet: 9s, opencsv:77s)\n- parquet only reads the columns in the SELECT statement, making more efficient. if there are the fewer selected columns, runtime will be faster.\n- However, opencsv needs to parse every line of the file into all the columns of the table."
    },
    {
      "cell_type": "code",
      "execution_count": 61,
      "metadata": {
        "autoscroll": "auto"
      },
      "outputs": [],
      "source": "SELECT year, countryName, indicatorName, indicatorValue AS GDP_Growth \nFROM wdi_opencsv_text\nWHERE indicatorcode \u003d \"NY.GDP.MKTP.KD.ZG\" \nAND year \u003d 2015 \nAND countrycode \u003d \"CAN\""
    },
    {
      "cell_type": "code",
      "execution_count": 62,
      "metadata": {
        "autoscroll": "auto"
      },
      "outputs": [],
      "source": "SELECT year, countryName, indicatorName, indicatorValue AS GDP_Growth \nFROM wdi_csv_parquet\nWHERE indicatorcode \u003d \"NY.GDP.MKTP.KD.ZG\" \nAND year \u003d 2015 \nAND countrycode \u003d \"CAN\""
    },
    {
      "cell_type": "markdown",
      "metadata": {},
      "source": "## Highest GDP Growth\n- the highest GDP growth year for each country."
    },
    {
      "cell_type": "code",
      "execution_count": 64,
      "metadata": {
        "autoscroll": "auto"
      },
      "outputs": [],
      "source": "SELECT a.indicatorValue as GDP_growth_value, a.year, a.countryName\nFROM wdi_csv_parquet a\nINNER JOIN\n(SELECT MAX(indicatorValue) as indicatorValue, countryName\nFROM wdi_csv_parquet\nWHERE indicatorCode \u003d \"NY.GDP.MKTP.KD.ZG\"\nAND indicatorValue \u003e 0.0\nGROUP BY countryName) b\nON a.indicatorValue \u003d b.indicatorValue\nAND a.countryName \u003d b.countryName"
    },
    {
      "cell_type": "code",
      "execution_count": 65,
      "metadata": {
        "autoscroll": "auto"
      },
      "outputs": [],
      "source": "%spark.sql\nSELECT a.indicatorValue as GDP_growth_value, a.year, a.countryName\nFROM wdi_csv_parquet a\nINNER JOIN\n(SELECT MAX(indicatorValue) as indicatorValue, countryName\nFROM wdi_csv_parquet\nWHERE indicatorCode \u003d \"NY.GDP.MKTP.KD.ZG\"\nAND indicatorValue \u003e 0.0\nGROUP BY countryName) b\nON a.indicatorValue \u003d b.indicatorValue\nAND a.countryName \u003d b.countryName"
    },
    {
      "cell_type": "code",
      "execution_count": 66,
      "metadata": {
        "autoscroll": "auto"
      },
      "outputs": [],
      "source": "%spark.sql\nSELECT countryName, year, indicatorCode, indicatorValue AS GDP_growth\nFROM wdi_csv_parquet\nWHERE indicatorCode \u003d \"NY.GDP.MKTP.KD.ZG\"\nORDER BY countryName, year"
    }
  ]
}